{
 "cells": [
  {
   "attachments": {},
   "cell_type": "markdown",
   "metadata": {},
   "source": [
    "## Traitement de Données Massives\n",
    "\n",
    "# Projet Partie n°2\n",
    "\n",
    "### Binôme : Sapy Oscar & Berthillon Mickaël"
   ]
  },
  {
   "attachments": {},
   "cell_type": "markdown",
   "metadata": {},
   "source": [
    "# 0 : Création de l'arborescence"
   ]
  },
  {
   "cell_type": "code",
   "execution_count": null,
   "metadata": {},
   "outputs": [],
   "source": [
    "import os\n",
    "\n",
    "folders = ['metadata', 'images', 'prefered_image']\n",
    "\n",
    "for folder in folders:\n",
    "    if not os.path.exists(folder):\n",
    "        os.makedirs(folder)\n",
    "        print(f\"Le dossier '{folder}' a été créé.\")\n",
    "    else:\n",
    "        print(f\"Le dossier '{folder}' existe déjà.\")"
   ]
  },
  {
   "attachments": {},
   "cell_type": "markdown",
   "metadata": {},
   "source": [
    "# 1 : Lancement de la stack docker (download, extract, analyze)"
   ]
  },
  {
   "cell_type": "code",
   "execution_count": null,
   "metadata": {},
   "outputs": [],
   "source": [
    "!docker-compose up --build"
   ]
  },
  {
   "attachments": {},
   "cell_type": "markdown",
   "metadata": {},
   "source": [
    "# 2 : Affiche l'image préférée sortie de docker_random"
   ]
  },
  {
   "cell_type": "code",
   "execution_count": null,
   "metadata": {},
   "outputs": [],
   "source": [
    "import os\n",
    "import tkinter as tk\n",
    "from PIL import Image, ImageTk\n",
    "\n",
    "class ImageDisplayer(tk.Tk):\n",
    "    def __init__(self, preferred_folder):\n",
    "        super().__init__()\n",
    "\n",
    "        self.preferred_folder = preferred_folder\n",
    "        self.images = os.listdir(preferred_folder)\n",
    "\n",
    "        self.title(\"Preferred Image\")\n",
    "        self.geometry(\"500x500\")\n",
    "\n",
    "        if self.images:\n",
    "            # Display only the first image\n",
    "            image_file = self.images[0]\n",
    "            image_path = os.path.join(self.preferred_folder, image_file)\n",
    "            self.display_image(image_path)\n",
    "        else:\n",
    "            tk.Label(self, text=\"No preferred image found\").pack()\n",
    "\n",
    "    def display_image(self, image_path):\n",
    "        image = Image.open(image_path)\n",
    "        image.thumbnail((400, 400))\n",
    "        photo = ImageTk.PhotoImage(image)\n",
    "\n",
    "        self.image_label = tk.Label(self, image=photo)\n",
    "        self.image_label.image = photo\n",
    "        self.image_label.pack()\n",
    "\n",
    "        tk.Label(self, text=\"Here is your preferred image\").pack()\n",
    "\n",
    "preferred_folder = \"./preferred_image\"\n",
    "app = ImageDisplayer(preferred_folder)\n",
    "app.mainloop()"
   ]
  },
  {
   "attachments": {},
   "cell_type": "markdown",
   "metadata": {},
   "source": [
    "# Commentaires\n",
    "## Changements : chaque partie est désormais dockerisée, sauf l'affichage de tkinter car cela ne marche pas toujours d'utiliser le serveur X11 pour prendre contrôle du graphique à partir d'un conteneur Docker.\n",
    "\n",
    "## Désormais, nous voulions que le processus ressemble à ceci :\n",
    "\n",
    "### DOCKER_COMPOSE {\n",
    "###     docker_download : télécharge le nb d'images voulues et les stocke dans le dossier\n",
    "###     docker_extract  : extrait les metadonnées déjà présentes dans les images et les ajoute dans les fichiers respectifs .json dans /metadata\n",
    "###     docker_analyse  : ajoute de nouveaux tags aux images en utilisant des librairies de reconnaissance\n",
    "###     docker_random   : choisi une image aléatoire parmi celles disponibles et la déplace dans le dossier preferred_image\n",
    "### }\n",
    "### Enfin, il est possible d'afficher l'image préférée à l'aide de tkinter et du script python ci-dessus.\n",
    "\n",
    "## Parallélisation : images_rdd.map(extract_metadata).collect()\n",
    "## Nous parallélisons au sein du docker_extract l'extraction des metadonnées sur les différents fichiers en même temps grâce à map."
   ]
  }
 ],
 "metadata": {
  "kernelspec": {
   "display_name": "Python 3",
   "language": "python",
   "name": "python3"
  },
  "language_info": {
   "codemirror_mode": {
    "name": "ipython",
    "version": 3
   },
   "file_extension": ".py",
   "mimetype": "text/x-python",
   "name": "python",
   "nbconvert_exporter": "python",
   "pygments_lexer": "ipython3",
   "version": "3.8.10"
  },
  "orig_nbformat": 4,
  "vscode": {
   "interpreter": {
    "hash": "31f2aee4e71d21fbe5cf8b01ff0e069b9275f58929596ceb00d14d90e3e16cd6"
   }
  }
 },
 "nbformat": 4,
 "nbformat_minor": 2
}
